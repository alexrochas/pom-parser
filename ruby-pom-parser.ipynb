{
 "cells": [
  {
   "cell_type": "code",
   "execution_count": 104,
   "metadata": {},
   "outputs": [
    {
     "data": {
      "text/html": [
       "<project schemaLocation=\"http://maven.apache.org/POM/4.0.0 http://maven.apache.org/xsd/maven-4.0.0.xsd\">\n",
       "    <modelVersion>4.0.0</modelVersion>\n",
       "\n",
       "    <groupId>com.mycompany.app</groupId>\n",
       "    <artifactId>my-app</artifactId>\n",
       "    <version>1.0-SNAPSHOT</version>\n",
       "\n",
       "    <properties>\n",
       "      <maven.compiler.source>1.7</maven.compiler.source>\n",
       "      <maven.compiler.target>1.7</maven.compiler.target>\n",
       "    </properties>\n",
       "\n",
       "    <dependencies>\n",
       "      <dependency>\n",
       "        <groupId>junit</groupId>\n",
       "        <artifactId>junit</artifactId>\n",
       "        <version>4.12</version>\n",
       "        <scope>test</scope>\n",
       "      </dependency>\n",
       "      <dependency>\n",
       "          <groupId>io.prometheus</groupId>\n",
       "          <artifactId>simpleclient</artifactId>\n",
       "          <version>0.6.0</version>\n",
       "      </dependency>\n",
       "    </dependencies>\n",
       "  </project>\n"
      ],
      "text/plain": [
       "#<Nokogiri::XML::Document:0x3fd7d0880bac name=\"document\" children=[#<Nokogiri::XML::Element:0x3fd7d397f3ac name=\"project\" attributes=[#<Nokogiri::XML::Attr:0x3fd7d397f348 name=\"schemaLocation\" value=\"http://maven.apache.org/POM/4.0.0 http://maven.apache.org/xsd/maven-4.0.0.xsd\">] children=[#<Nokogiri::XML::Text:0x3fd7d397edd0 \"\\n    \">, #<Nokogiri::XML::Element:0x3fd7d397eccc name=\"modelVersion\" children=[#<Nokogiri::XML::Text:0x3fd7d397e768 \"4.0.0\">]>, #<Nokogiri::XML::Text:0x3fd7d397e060 \"\\n\\n    \">, #<Nokogiri::XML::Element:0x3fd7d397e36c name=\"groupId\" children=[#<Nokogiri::XML::Text:0x3fd7d0885fd0 \"com.mycompany.app\">]>, #<Nokogiri::XML::Text:0x3fd7d0885cec \"\\n    \">, #<Nokogiri::XML::Element:0x3fd7d0885c38 name=\"artifactId\" children=[#<Nokogiri::XML::Text:0x3fd7d0885a08 \"my-app\">]>, #<Nokogiri::XML::Text:0x3fd7d08857d8 \"\\n    \">, #<Nokogiri::XML::Element:0x3fd7d08856c0 name=\"version\" children=[#<Nokogiri::XML::Text:0x3fd7d0885490 \"1.0-SNAPSHOT\">]>, #<Nokogiri::XML::Text:0x3fd7d0885210 \"\\n\\n    \">, #<Nokogiri::XML::Element:0x3fd7d0885148 name=\"properties\" children=[#<Nokogiri::XML::Text:0x3fd7d0884f7c \"\\n      \">, #<Nokogiri::XML::Element:0x3fd7d0884eb4 name=\"maven.compiler.source\" children=[#<Nokogiri::XML::Text:0x3fd7d0884c98 \"1.7\">]>, #<Nokogiri::XML::Text:0x3fd7d0884a2c \"\\n      \">, #<Nokogiri::XML::Element:0x3fd7d0884964 name=\"maven.compiler.target\" children=[#<Nokogiri::XML::Text:0x3fd7d088475c \"1.7\">]>, #<Nokogiri::XML::Text:0x3fd7d088457c \"\\n    \">]>, #<Nokogiri::XML::Text:0x3fd7d08842e8 \"\\n\\n    \">, #<Nokogiri::XML::Element:0x3fd7d088420c name=\"dependencies\" children=[#<Nokogiri::XML::Text:0x3fd7d0884004 \"\\n      \">, #<Nokogiri::XML::Element:0x3fd7d08846bc name=\"dependency\" children=[#<Nokogiri::XML::Text:0x3fd7d3979f38 \"\\n        \">, #<Nokogiri::XML::Element:0x3fd7d3979e34 name=\"groupId\" children=[#<Nokogiri::XML::Text:0x3fd7d39798bc \"junit\">]>, #<Nokogiri::XML::Text:0x3fd7d397959c \"\\n        \">, #<Nokogiri::XML::Element:0x3fd7d3979448 name=\"artifactId\" children=[#<Nokogiri::XML::Text:0x3fd7d3979150 \"junit\">]>, #<Nokogiri::XML::Text:0x3fd7d3978ed0 \"\\n        \">, #<Nokogiri::XML::Element:0x3fd7d3978d7c name=\"version\" children=[#<Nokogiri::XML::Text:0x3fd7d3978a34 \"4.12\">]>, #<Nokogiri::XML::Text:0x3fd7d397878c \"\\n        \">, #<Nokogiri::XML::Element:0x3fd7d3978688 name=\"scope\" children=[#<Nokogiri::XML::Text:0x3fd7d3978408 \"test\">]>, #<Nokogiri::XML::Text:0x3fd7d39781c4 \"\\n      \">]>, #<Nokogiri::XML::Text:0x3fd7d3978b9c \"\\n      \">, #<Nokogiri::XML::Element:0x3fd7d3979178 name=\"dependency\" children=[#<Nokogiri::XML::Text:0x3fd7d3975be0 \"\\n          \">, #<Nokogiri::XML::Element:0x3fd7d3975b04 name=\"groupId\" children=[#<Nokogiri::XML::Text:0x3fd7d3975910 \"io.prometheus\">]>, #<Nokogiri::XML::Text:0x3fd7d3975744 \"\\n          \">, #<Nokogiri::XML::Element:0x3fd7d397567c name=\"artifactId\" children=[#<Nokogiri::XML::Text:0x3fd7d3975370 \"simpleclient\">]>, #<Nokogiri::XML::Text:0x3fd7d39750b4 \"\\n          \">, #<Nokogiri::XML::Element:0x3fd7d3974f9c name=\"version\" children=[#<Nokogiri::XML::Text:0x3fd7d3974c18 \"0.6.0\">]>, #<Nokogiri::XML::Text:0x3fd7d3974998 \"\\n      \">]>, #<Nokogiri::XML::Text:0x3fd7d39746a0 \"\\n    \">]>, #<Nokogiri::XML::Text:0x3fd7d39744fc \"\\n  \">]>]>"
      ]
     },
     "execution_count": 104,
     "metadata": {},
     "output_type": "execute_result"
    }
   ],
   "source": [
    "require 'nokogiri'\n",
    "\n",
    "xml_str = %{\n",
    "  <project xmlns=\"http://maven.apache.org/POM/4.0.0\" xmlns:xsi=\"http://www.w3.org/2001/XMLSchema-instance\"\n",
    "    xsi:schemaLocation=\"http://maven.apache.org/POM/4.0.0 http://maven.apache.org/xsd/maven-4.0.0.xsd\">\n",
    "    <modelVersion>4.0.0</modelVersion>\n",
    "\n",
    "    <groupId>com.mycompany.app</groupId>\n",
    "    <artifactId>my-app</artifactId>\n",
    "    <version>1.0-SNAPSHOT</version>\n",
    "\n",
    "    <properties>\n",
    "      <maven.compiler.source>1.7</maven.compiler.source>\n",
    "      <maven.compiler.target>1.7</maven.compiler.target>\n",
    "    </properties>\n",
    "\n",
    "    <dependencies>\n",
    "      <dependency>\n",
    "        <groupId>junit</groupId>\n",
    "        <artifactId>junit</artifactId>\n",
    "        <version>4.12</version>\n",
    "        <scope>test</scope>\n",
    "      </dependency>\n",
    "      <dependency>\n",
    "          <groupId>io.prometheus</groupId>\n",
    "          <artifactId>simpleclient</artifactId>\n",
    "          <version>0.6.0</version>\n",
    "      </dependency>\n",
    "    </dependencies>\n",
    "  </project>\n",
    "}\n",
    "\n",
    "doc = Nokogiri::XML(xml_str)\n",
    "doc.remove_namespaces!"
   ]
  },
  {
   "cell_type": "code",
   "execution_count": 105,
   "metadata": {},
   "outputs": [
    {
     "data": {
      "text/plain": [
       "false"
      ]
     },
     "execution_count": 105,
     "metadata": {},
     "output_type": "execute_result"
    }
   ],
   "source": [
    "require 'ostruct'\n",
    "\n",
    "doc.css('dependency').map { |d| \n",
    "      tuple = OpenStruct.new\n",
    "      tuple.groupId = (d.css('groupId').text)\n",
    "      tuple.version = (d.css('version').text)\n",
    "      tuple\n",
    "    }.select { |d| \n",
    "      d.groupId =~ /prometheus/\n",
    "    }.empty?"
   ]
  },
  {
   "cell_type": "code",
   "execution_count": 106,
   "metadata": {},
   "outputs": [
    {
     "data": {
      "text/html": [
       "<project schemaLocation=\"http://maven.apache.org/POM/4.0.0 http://maven.apache.org/xsd/maven-4.0.0.xsd\">\n",
       "    <modelVersion>4.0.0</modelVersion>\n",
       "\n",
       "    <groupId>com.mycompany.app</groupId>\n",
       "    <artifactId>my-app</artifactId>\n",
       "    <version>1.0-SNAPSHOT</version>\n",
       "\n",
       "    <properties>\n",
       "      <maven.compiler.source>1.7</maven.compiler.source>\n",
       "      <maven.compiler.target>1.7</maven.compiler.target>\n",
       "    </properties>\n",
       "\n",
       "    <dependencies>\n",
       "      <dependency>\n",
       "        <groupId>junit</groupId>\n",
       "        <artifactId>junit</artifactId>\n",
       "        <version>4.12</version>\n",
       "        <scope>test</scope>\n",
       "      </dependency>\n",
       "    </dependencies>\n",
       "  </project>\n"
      ],
      "text/plain": [
       "#<Nokogiri::XML::Document:0x3fd7d395c9c4 name=\"document\" children=[#<Nokogiri::XML::Element:0x3fd7d20a4364 name=\"project\" attributes=[#<Nokogiri::XML::Attr:0x3fd7d20a4bd4 name=\"schemaLocation\" value=\"http://maven.apache.org/POM/4.0.0 http://maven.apache.org/xsd/maven-4.0.0.xsd\">] children=[#<Nokogiri::XML::Text:0x3fd7d20a9bac \"\\n    \">, #<Nokogiri::XML::Element:0x3fd7d20a9ae4 name=\"modelVersion\" children=[#<Nokogiri::XML::Text:0x3fd7d20a9814 \"4.0.0\">]>, #<Nokogiri::XML::Text:0x3fd7d20a951c \"\\n\\n    \">, #<Nokogiri::XML::Element:0x3fd7d20a91fc name=\"groupId\" children=[#<Nokogiri::XML::Text:0x3fd7d20a8590 \"com.mycompany.app\">]>, #<Nokogiri::XML::Text:0x3fd7d20a83b0 \"\\n    \">, #<Nokogiri::XML::Element:0x3fd7d20a82e8 name=\"artifactId\" children=[#<Nokogiri::XML::Text:0x3fd7d20a8090 \"my-app\">]>, #<Nokogiri::XML::Text:0x3fd7d20a9b20 \"\\n    \">, #<Nokogiri::XML::Element:0x3fd7d20a3e28 name=\"version\" children=[#<Nokogiri::XML::Text:0x3fd7d20a3c48 \"1.0-SNAPSHOT\">]>, #<Nokogiri::XML::Text:0x3fd7d20a3a18 \"\\n\\n    \">, #<Nokogiri::XML::Element:0x3fd7d20a3900 name=\"properties\" children=[#<Nokogiri::XML::Text:0x3fd7d20a3694 \"\\n      \">, #<Nokogiri::XML::Element:0x3fd7d20a35a4 name=\"maven.compiler.source\" children=[#<Nokogiri::XML::Text:0x3fd7d20a32fc \"1.7\">]>, #<Nokogiri::XML::Text:0x3fd7d20a30a4 \"\\n      \">, #<Nokogiri::XML::Element:0x3fd7d20a2f78 name=\"maven.compiler.target\" children=[#<Nokogiri::XML::Text:0x3fd7d20a2d34 \"1.7\">]>, #<Nokogiri::XML::Text:0x3fd7d20a2ab4 \"\\n    \">]>, #<Nokogiri::XML::Text:0x3fd7d20a27bc \"\\n\\n    \">, #<Nokogiri::XML::Element:0x3fd7d20a2708 name=\"dependencies\" children=[#<Nokogiri::XML::Text:0x3fd7d20a2514 \"\\n      \">, #<Nokogiri::XML::Element:0x3fd7d20a2424 name=\"dependency\" children=[#<Nokogiri::XML::Text:0x3fd7d20a2190 \"\\n        \">, #<Nokogiri::XML::Element:0x3fd7d20a2050 name=\"groupId\" children=[#<Nokogiri::XML::Text:0x3fd7d20a2dfc \"junit\">]>, #<Nokogiri::XML::Text:0x3fd7d3955f0c \"\\n        \">, #<Nokogiri::XML::Element:0x3fd7d3955d7c name=\"artifactId\" children=[#<Nokogiri::XML::Text:0x3fd7d3955a70 \"junit\">]>, #<Nokogiri::XML::Text:0x3fd7d3955804 \"\\n        \">, #<Nokogiri::XML::Element:0x3fd7d3955714 name=\"version\" children=[#<Nokogiri::XML::Text:0x3fd7d3955494 \"4.12\">]>, #<Nokogiri::XML::Text:0x3fd7d395523c \"\\n        \">, #<Nokogiri::XML::Element:0x3fd7d3955124 name=\"scope\" children=[#<Nokogiri::XML::Text:0x3fd7d3954ea4 \"test\">]>, #<Nokogiri::XML::Text:0x3fd7d3954bfc \"\\n      \">]>, #<Nokogiri::XML::Text:0x3fd7d395442c \"\\n    \">]>, #<Nokogiri::XML::Text:0x3fd7d39541fc \"\\n  \">]>]>"
      ]
     },
     "execution_count": 106,
     "metadata": {},
     "output_type": "execute_result"
    }
   ],
   "source": [
    "require 'nokogiri'\n",
    "\n",
    "xml_str = %{\n",
    "  <project xmlns=\"http://maven.apache.org/POM/4.0.0\" xmlns:xsi=\"http://www.w3.org/2001/XMLSchema-instance\"\n",
    "    xsi:schemaLocation=\"http://maven.apache.org/POM/4.0.0 http://maven.apache.org/xsd/maven-4.0.0.xsd\">\n",
    "    <modelVersion>4.0.0</modelVersion>\n",
    "\n",
    "    <groupId>com.mycompany.app</groupId>\n",
    "    <artifactId>my-app</artifactId>\n",
    "    <version>1.0-SNAPSHOT</version>\n",
    "\n",
    "    <properties>\n",
    "      <maven.compiler.source>1.7</maven.compiler.source>\n",
    "      <maven.compiler.target>1.7</maven.compiler.target>\n",
    "    </properties>\n",
    "\n",
    "    <dependencies>\n",
    "      <dependency>\n",
    "        <groupId>junit</groupId>\n",
    "        <artifactId>junit</artifactId>\n",
    "        <version>4.12</version>\n",
    "        <scope>test</scope>\n",
    "      </dependency>\n",
    "    </dependencies>\n",
    "  </project>\n",
    "}\n",
    "\n",
    "doc = Nokogiri::XML(xml_str)\n",
    "doc.remove_namespaces!"
   ]
  },
  {
   "cell_type": "code",
   "execution_count": 107,
   "metadata": {},
   "outputs": [
    {
     "name": "stdout",
     "output_type": "stream",
     "text": [
      "<?xml version=\"1.0\"?>\n",
      "<project schemaLocation=\"http://maven.apache.org/POM/4.0.0 http://maven.apache.org/xsd/maven-4.0.0.xsd\">\n",
      "    <modelVersion>4.0.0</modelVersion>\n",
      "\n",
      "    <groupId>com.mycompany.app</groupId>\n",
      "    <artifactId>my-app</artifactId>\n",
      "    <version>1.0-SNAPSHOT</version>\n",
      "\n",
      "    <properties>\n",
      "      <maven.compiler.source>1.7</maven.compiler.source>\n",
      "      <maven.compiler.target>1.7</maven.compiler.target>\n",
      "    </properties>\n",
      "\n",
      "    <dependencies>\n",
      "      <dependency>\n",
      "        <groupId>junit</groupId>\n",
      "        <artifactId>junit</artifactId>\n",
      "        <version>4.12</version>\n",
      "        <scope>test</scope>\n",
      "      </dependency>\n",
      "    </dependencies>\n",
      "  </project>\n",
      "\n"
     ]
    }
   ],
   "source": [
    "puts doc.to_xml"
   ]
  },
  {
   "cell_type": "code",
   "execution_count": 108,
   "metadata": {},
   "outputs": [
    {
     "name": "stdout",
     "output_type": "stream",
     "text": [
      "<?xml version=\"1.0\"?>\n",
      "<project schemaLocation=\"http://maven.apache.org/POM/4.0.0 http://maven.apache.org/xsd/maven-4.0.0.xsd\">\n",
      "    <modelVersion>4.0.0</modelVersion>\n",
      "\n",
      "    <groupId>com.mycompany.app</groupId>\n",
      "    <artifactId>my-app</artifactId>\n",
      "    <version>1.0-SNAPSHOT</version>\n",
      "\n",
      "    <properties>\n",
      "      <maven.compiler.source>1.7</maven.compiler.source>\n",
      "      <maven.compiler.target>1.7</maven.compiler.target>\n",
      "    </properties>\n",
      "\n",
      "    <dependencies>\n",
      "      <dependency>\n",
      "        <groupId>junit</groupId>\n",
      "        <artifactId>junit</artifactId>\n",
      "        <version>4.12</version>\n",
      "        <scope>test</scope>\n",
      "      </dependency>\n",
      "    \n",
      "      <dependency>\n",
      "          <groupId>io.prometheus</groupId>\n",
      "          <artifactId>simpleclient</artifactId>\n",
      "          <version>0.6.0</version>\n",
      "      </dependency>\n",
      "</dependencies>\n",
      "  </project>\n",
      "\n"
     ]
    }
   ],
   "source": [
    "doc.at('dependencies').add_child(%{\n",
    "      <dependency>\n",
    "          <groupId>io.prometheus</groupId>\n",
    "          <artifactId>simpleclient</artifactId>\n",
    "          <version>0.6.0</version>\n",
    "      </dependency>\n",
    "})\n",
    "puts doc.to_xml"
   ]
  },
  {
   "cell_type": "code",
   "execution_count": null,
   "metadata": {},
   "outputs": [],
   "source": []
  }
 ],
 "metadata": {
  "kernelspec": {
   "display_name": "Ruby 2.5.3",
   "language": "ruby",
   "name": "ruby"
  },
  "language_info": {
   "file_extension": ".rb",
   "mimetype": "application/x-ruby",
   "name": "ruby",
   "version": "2.5.3"
  }
 },
 "nbformat": 4,
 "nbformat_minor": 2
}
